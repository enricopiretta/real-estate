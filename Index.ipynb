{
 "cells": [
  {
   "cell_type": "code",
   "execution_count": 1,
   "metadata": {},
   "outputs": [],
   "source": [
    "imposte = 3000  # come seconda casa\n",
    "agenzia = 4330  # tecnocasa richiede 4000+IVA. Abbiamo concordato 1500+IVA e i restanti 2500 cash\n",
    "casa = 26000  # io ho già versato una caparra confirmatoria di euro 4000 tramite bonifico bancario. Ne rimangono da pagare 22000 all'atto\n",
    "marketing = 500  # per la rivendita sfrutterei digital marketing, bypassando agenzie immobiliari\n",
    "notaio_acquisto = 900  # 700+IVA\n",
    "notaio_vendita = 900\n",
    "casa_in_vendita = 60000"
   ]
  },
  {
   "cell_type": "code",
   "execution_count": 2,
   "metadata": {},
   "outputs": [],
   "source": [
    "def scenario(mesi, ristrutturazione=10000):\n",
    "    spese_condominiali = 50*mesi\n",
    "    costo_acquisto = agenzia + casa + notaio_acquisto + imposte\n",
    "    ricavo_vendita = 26000 + .74*(casa_in_vendita - 26000)  # tenuto in conto la plusvalenza sulla seconda casa\n",
    "    costo_vendita = notaio_vendita + marketing\n",
    "    roi = (26000 + .74*(casa_in_vendita - 26000))/(ristrutturazione + notaio_vendita + spese_condominiali + notaio_acquisto + marketing + imposte + agenzia + casa) - 1\n",
    "    print(f'ROI su {mesi} mesi = ', roi*100, '%')\n",
    "    print('ROI su 12 mesi = ', ((1+roi)**(12/mesi)-1)*100, '%')\n",
    "    print('net profit: ', ricavo_vendita - costo_acquisto - costo_vendita - spese_condominiali - ristrutturazione - marketing)"
   ]
  },
  {
   "cell_type": "markdown",
   "metadata": {},
   "source": [
    "# BEST CASE SCENARIO"
   ]
  },
  {
   "cell_type": "code",
   "execution_count": 3,
   "metadata": {},
   "outputs": [
    {
     "name": "stdout",
     "output_type": "stream",
     "text": [
      "ROI su 4 mesi =  12.119219811527504 %\n",
      "ROI su 12 mesi =  40.94192573320403 %\n",
      "net profit:  4830.0\n"
     ]
    }
   ],
   "source": [
    "scenario(4)"
   ]
  },
  {
   "cell_type": "markdown",
   "metadata": {},
   "source": [
    "# BASE CASE SCENARIO"
   ]
  },
  {
   "cell_type": "code",
   "execution_count": 4,
   "metadata": {},
   "outputs": [
    {
     "name": "stdout",
     "output_type": "stream",
     "text": [
      "ROI su 8 mesi =  12.119219811527504 %\n",
      "ROI su 12 mesi =  18.71896467422718 %\n",
      "net profit:  4630.0\n"
     ]
    }
   ],
   "source": [
    "scenario(8)"
   ]
  },
  {
   "cell_type": "markdown",
   "metadata": {},
   "source": [
    "# WORST CASE SCENARIO"
   ]
  },
  {
   "cell_type": "code",
   "execution_count": 5,
   "metadata": {},
   "outputs": [
    {
     "name": "stdout",
     "output_type": "stream",
     "text": [
      "ROI su 12 mesi =  12.119219811527504 %\n",
      "ROI su 12 mesi =  12.119219811527504 %\n",
      "net profit:  4430.0\n"
     ]
    }
   ],
   "source": [
    "scenario(12)"
   ]
  },
  {
   "cell_type": "markdown",
   "metadata": {},
   "source": [
    "# The End!"
   ]
  },
  {
   "cell_type": "markdown",
   "metadata": {},
   "source": []
  },
  {
   "cell_type": "markdown",
   "metadata": {},
   "source": [
    "You can also get this tutorial and run it on your laptop:\n",
    "\n",
    "    git clone https://github.com/ipython/ipython-in-depth\n",
    "\n",
    "Install IPython and Jupyter:\n",
    "\n",
    "with [conda](https://www.anaconda.com/download):\n",
    "\n",
    "    conda install ipython jupyter\n",
    "\n",
    "with pip:\n",
    "\n",
    "    # first, always upgrade pip!\n",
    "    pip install --upgrade pip\n",
    "    pip install --upgrade ipython jupyter\n",
    "\n",
    "Start the notebook in the tutorial directory:\n",
    "\n",
    "    cd ipython-in-depth\n",
    "    jupyter notebook"
   ]
  }
 ],
 "metadata": {
  "kernelspec": {
   "display_name": "Python 3",
   "language": "python",
   "name": "python3"
  },
  "language_info": {
   "codemirror_mode": {
    "name": "ipython",
    "version": 3
   },
   "file_extension": ".py",
   "mimetype": "text/x-python",
   "name": "python",
   "nbconvert_exporter": "python",
   "pygments_lexer": "ipython3",
   "version": "3.6.13"
  }
 },
 "nbformat": 4,
 "nbformat_minor": 2
}
